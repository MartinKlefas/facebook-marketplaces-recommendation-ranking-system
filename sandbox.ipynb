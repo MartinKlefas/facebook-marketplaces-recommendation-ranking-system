{
 "cells": [
  {
   "cell_type": "code",
   "execution_count": 2,
   "metadata": {},
   "outputs": [],
   "source": [
    "import pandas as pd\n",
    "import clean_tabular_data as ctd\n",
    "\n",
    "images = ctd.import_image_data()\n",
    "\n",
    "products = ctd.import_product_data(doGeoCode=False)\n"
   ]
  },
  {
   "cell_type": "code",
   "execution_count": 2,
   "metadata": {},
   "outputs": [
    {
     "data": {
      "text/html": [
       "<div>\n",
       "<style scoped>\n",
       "    .dataframe tbody tr th:only-of-type {\n",
       "        vertical-align: middle;\n",
       "    }\n",
       "\n",
       "    .dataframe tbody tr th {\n",
       "        vertical-align: top;\n",
       "    }\n",
       "\n",
       "    .dataframe thead th {\n",
       "        text-align: right;\n",
       "    }\n",
       "</style>\n",
       "<table border=\"1\" class=\"dataframe\">\n",
       "  <thead>\n",
       "    <tr style=\"text-align: right;\">\n",
       "      <th></th>\n",
       "      <th>id</th>\n",
       "      <th>product_id</th>\n",
       "    </tr>\n",
       "  </thead>\n",
       "  <tbody>\n",
       "    <tr>\n",
       "      <th>0</th>\n",
       "      <td>912bb259-3ad9-457b-9db1-ce1da9016057</td>\n",
       "      <td>5f5f57d7-778f-4336-bb10-b43863418c8c</td>\n",
       "    </tr>\n",
       "    <tr>\n",
       "      <th>1</th>\n",
       "      <td>b166d305-b852-4bdd-83f4-465b20da94fa</td>\n",
       "      <td>5f5f57d7-778f-4336-bb10-b43863418c8c</td>\n",
       "    </tr>\n",
       "    <tr>\n",
       "      <th>2</th>\n",
       "      <td>68f5a29d-0075-4d60-81c1-ab684a82e50c</td>\n",
       "      <td>c2c8949f-3cde-4651-a234-4a4a1b2a9ad4</td>\n",
       "    </tr>\n",
       "    <tr>\n",
       "      <th>3</th>\n",
       "      <td>f6a309d7-d247-446a-9b5e-aceefdd4334d</td>\n",
       "      <td>c2c8949f-3cde-4651-a234-4a4a1b2a9ad4</td>\n",
       "    </tr>\n",
       "    <tr>\n",
       "      <th>4</th>\n",
       "      <td>2c2b3a6f-15b3-4289-937a-15482d9f5781</td>\n",
       "      <td>8292aa4e-7f1b-4655-bf0e-f1f2c9e3ffaf</td>\n",
       "    </tr>\n",
       "  </tbody>\n",
       "</table>\n",
       "</div>"
      ],
      "text/plain": [
       "                                     id                            product_id\n",
       "0  912bb259-3ad9-457b-9db1-ce1da9016057  5f5f57d7-778f-4336-bb10-b43863418c8c\n",
       "1  b166d305-b852-4bdd-83f4-465b20da94fa  5f5f57d7-778f-4336-bb10-b43863418c8c\n",
       "2  68f5a29d-0075-4d60-81c1-ab684a82e50c  c2c8949f-3cde-4651-a234-4a4a1b2a9ad4\n",
       "3  f6a309d7-d247-446a-9b5e-aceefdd4334d  c2c8949f-3cde-4651-a234-4a4a1b2a9ad4\n",
       "4  2c2b3a6f-15b3-4289-937a-15482d9f5781  8292aa4e-7f1b-4655-bf0e-f1f2c9e3ffaf"
      ]
     },
     "execution_count": 2,
     "metadata": {},
     "output_type": "execute_result"
    }
   ],
   "source": [
    "images.head()"
   ]
  },
  {
   "cell_type": "code",
   "execution_count": 3,
   "metadata": {},
   "outputs": [
    {
     "data": {
      "text/html": [
       "<div>\n",
       "<style scoped>\n",
       "    .dataframe tbody tr th:only-of-type {\n",
       "        vertical-align: middle;\n",
       "    }\n",
       "\n",
       "    .dataframe tbody tr th {\n",
       "        vertical-align: top;\n",
       "    }\n",
       "\n",
       "    .dataframe thead th {\n",
       "        text-align: right;\n",
       "    }\n",
       "</style>\n",
       "<table border=\"1\" class=\"dataframe\">\n",
       "  <thead>\n",
       "    <tr style=\"text-align: right;\">\n",
       "      <th></th>\n",
       "      <th>product_id</th>\n",
       "      <th>product_name</th>\n",
       "      <th>category</th>\n",
       "      <th>product_description</th>\n",
       "      <th>price</th>\n",
       "      <th>location</th>\n",
       "    </tr>\n",
       "  </thead>\n",
       "  <tbody>\n",
       "    <tr>\n",
       "      <th>0</th>\n",
       "      <td>243809c0-9cfc-4486-ad12-3b7a16605ba9</td>\n",
       "      <td>Mirror wall art | in Wokingham, Berkshire | Gu...</td>\n",
       "      <td>Home &amp; Garden / Dining, Living Room Furniture ...</td>\n",
       "      <td>Mirror wall art. Posted by Nisha in Dining, Li...</td>\n",
       "      <td>5.0</td>\n",
       "      <td>Wokingham, Berkshire</td>\n",
       "    </tr>\n",
       "    <tr>\n",
       "      <th>1</th>\n",
       "      <td>1c58d3f9-8b93-47ea-9415-204fcc2a22e6</td>\n",
       "      <td>Stainless Steel Food Steamer | in Inverness, H...</td>\n",
       "      <td>Home &amp; Garden / Other Household Goods</td>\n",
       "      <td>Morphy Richard’s (model no 48755)Stainless ste...</td>\n",
       "      <td>20.0</td>\n",
       "      <td>Inverness, Highland</td>\n",
       "    </tr>\n",
       "    <tr>\n",
       "      <th>2</th>\n",
       "      <td>860673f1-57f6-47ba-8d2f-13f9e05b8f9a</td>\n",
       "      <td>Sun loungers | in Skegness, Lincolnshire | Gum...</td>\n",
       "      <td>Home &amp; Garden / Garden &amp; Patio / Outdoor Setti...</td>\n",
       "      <td>I have 2 of these - collection only as I don’t...</td>\n",
       "      <td>20.0</td>\n",
       "      <td>Skegness, Lincolnshire</td>\n",
       "    </tr>\n",
       "    <tr>\n",
       "      <th>3</th>\n",
       "      <td>59948726-29be-4b35-ade5-bb2fd7331856</td>\n",
       "      <td>Coffee side table from Ammunition ammo box hai...</td>\n",
       "      <td>Home &amp; Garden / Dining, Living Room Furniture ...</td>\n",
       "      <td>Great reclaimed army ammunition box used as co...</td>\n",
       "      <td>115.0</td>\n",
       "      <td>Radstock, Somerset</td>\n",
       "    </tr>\n",
       "    <tr>\n",
       "      <th>4</th>\n",
       "      <td>16dbc860-696e-4cda-93f6-4dd4926573fb</td>\n",
       "      <td>Modern Shannon Sofa for sale at low cost | in ...</td>\n",
       "      <td>Home &amp; Garden / Dining, Living Room Furniture ...</td>\n",
       "      <td>New Design Shannon Corner sofa  5 Seater Avail...</td>\n",
       "      <td>450.0</td>\n",
       "      <td>Delph, Manchester</td>\n",
       "    </tr>\n",
       "  </tbody>\n",
       "</table>\n",
       "</div>"
      ],
      "text/plain": [
       "                             product_id  \\\n",
       "0  243809c0-9cfc-4486-ad12-3b7a16605ba9   \n",
       "1  1c58d3f9-8b93-47ea-9415-204fcc2a22e6   \n",
       "2  860673f1-57f6-47ba-8d2f-13f9e05b8f9a   \n",
       "3  59948726-29be-4b35-ade5-bb2fd7331856   \n",
       "4  16dbc860-696e-4cda-93f6-4dd4926573fb   \n",
       "\n",
       "                                        product_name  \\\n",
       "0  Mirror wall art | in Wokingham, Berkshire | Gu...   \n",
       "1  Stainless Steel Food Steamer | in Inverness, H...   \n",
       "2  Sun loungers | in Skegness, Lincolnshire | Gum...   \n",
       "3  Coffee side table from Ammunition ammo box hai...   \n",
       "4  Modern Shannon Sofa for sale at low cost | in ...   \n",
       "\n",
       "                                            category  \\\n",
       "0  Home & Garden / Dining, Living Room Furniture ...   \n",
       "1              Home & Garden / Other Household Goods   \n",
       "2  Home & Garden / Garden & Patio / Outdoor Setti...   \n",
       "3  Home & Garden / Dining, Living Room Furniture ...   \n",
       "4  Home & Garden / Dining, Living Room Furniture ...   \n",
       "\n",
       "                                 product_description  price  \\\n",
       "0  Mirror wall art. Posted by Nisha in Dining, Li...    5.0   \n",
       "1  Morphy Richard’s (model no 48755)Stainless ste...   20.0   \n",
       "2  I have 2 of these - collection only as I don’t...   20.0   \n",
       "3  Great reclaimed army ammunition box used as co...  115.0   \n",
       "4  New Design Shannon Corner sofa  5 Seater Avail...  450.0   \n",
       "\n",
       "                 location  \n",
       "0    Wokingham, Berkshire  \n",
       "1     Inverness, Highland  \n",
       "2  Skegness, Lincolnshire  \n",
       "3      Radstock, Somerset  \n",
       "4       Delph, Manchester  "
      ]
     },
     "execution_count": 3,
     "metadata": {},
     "output_type": "execute_result"
    }
   ],
   "source": [
    "products.head()"
   ]
  },
  {
   "attachments": {},
   "cell_type": "markdown",
   "metadata": {},
   "source": [
    "Extracting \"root\" category and \"sub\" categories for each product"
   ]
  },
  {
   "cell_type": "code",
   "execution_count": 4,
   "metadata": {},
   "outputs": [],
   "source": [
    "products[['root_category','sub_categories']] = products[\"category\"].apply(lambda x: pd.Series(str(x).split(sep=\"/\",maxsplit=1)))"
   ]
  },
  {
   "cell_type": "code",
   "execution_count": 5,
   "metadata": {},
   "outputs": [],
   "source": [
    "products['root_category'] = products['root_category'].str.strip()\n",
    "products['root_category'] = pd.Categorical(products['root_category'])\n",
    "products['label'] = products['root_category'].cat.codes"
   ]
  },
  {
   "cell_type": "code",
   "execution_count": 6,
   "metadata": {},
   "outputs": [
    {
     "name": "stdout",
     "output_type": "stream",
     "text": [
      "<class 'pandas.core.frame.DataFrame'>\n",
      "RangeIndex: 7156 entries, 0 to 7155\n",
      "Data columns (total 9 columns):\n",
      " #   Column               Non-Null Count  Dtype   \n",
      "---  ------               --------------  -----   \n",
      " 0   product_id           7156 non-null   object  \n",
      " 1   product_name         7156 non-null   object  \n",
      " 2   category             7156 non-null   object  \n",
      " 3   product_description  7156 non-null   object  \n",
      " 4   price                7156 non-null   float64 \n",
      " 5   location             7156 non-null   object  \n",
      " 6   root_category        7156 non-null   category\n",
      " 7   sub_categories       7156 non-null   object  \n",
      " 8   label                7156 non-null   int8    \n",
      "dtypes: category(1), float64(1), int8(1), object(6)\n",
      "memory usage: 406.1+ KB\n"
     ]
    }
   ],
   "source": [
    "products.info()"
   ]
  },
  {
   "attachments": {},
   "cell_type": "markdown",
   "metadata": {},
   "source": [
    "The `product_ID` column in `images` links the two dataframes, so we can now use this to bring in the category to the images dataframe.\n",
    "\n",
    "In the below the merge looks for columns that are in both, and uses these as the lookup value between the two. The section after the merge inside [[]] then tells is what columns we want in the output dataframe."
   ]
  },
  {
   "cell_type": "code",
   "execution_count": 8,
   "metadata": {},
   "outputs": [
    {
     "data": {
      "text/html": [
       "<div>\n",
       "<style scoped>\n",
       "    .dataframe tbody tr th:only-of-type {\n",
       "        vertical-align: middle;\n",
       "    }\n",
       "\n",
       "    .dataframe tbody tr th {\n",
       "        vertical-align: top;\n",
       "    }\n",
       "\n",
       "    .dataframe thead th {\n",
       "        text-align: right;\n",
       "    }\n",
       "</style>\n",
       "<table border=\"1\" class=\"dataframe\">\n",
       "  <thead>\n",
       "    <tr style=\"text-align: right;\">\n",
       "      <th></th>\n",
       "      <th>id</th>\n",
       "      <th>product_id</th>\n",
       "      <th>root_category</th>\n",
       "      <th>label</th>\n",
       "    </tr>\n",
       "  </thead>\n",
       "  <tbody>\n",
       "    <tr>\n",
       "      <th>0</th>\n",
       "      <td>912bb259-3ad9-457b-9db1-ce1da9016057</td>\n",
       "      <td>5f5f57d7-778f-4336-bb10-b43863418c8c</td>\n",
       "      <td>Home &amp; Garden</td>\n",
       "      <td>6</td>\n",
       "    </tr>\n",
       "    <tr>\n",
       "      <th>1</th>\n",
       "      <td>b166d305-b852-4bdd-83f4-465b20da94fa</td>\n",
       "      <td>5f5f57d7-778f-4336-bb10-b43863418c8c</td>\n",
       "      <td>Home &amp; Garden</td>\n",
       "      <td>6</td>\n",
       "    </tr>\n",
       "    <tr>\n",
       "      <th>2</th>\n",
       "      <td>68f5a29d-0075-4d60-81c1-ab684a82e50c</td>\n",
       "      <td>c2c8949f-3cde-4651-a234-4a4a1b2a9ad4</td>\n",
       "      <td>Home &amp; Garden</td>\n",
       "      <td>6</td>\n",
       "    </tr>\n",
       "    <tr>\n",
       "      <th>3</th>\n",
       "      <td>f6a309d7-d247-446a-9b5e-aceefdd4334d</td>\n",
       "      <td>c2c8949f-3cde-4651-a234-4a4a1b2a9ad4</td>\n",
       "      <td>Home &amp; Garden</td>\n",
       "      <td>6</td>\n",
       "    </tr>\n",
       "    <tr>\n",
       "      <th>4</th>\n",
       "      <td>2c2b3a6f-15b3-4289-937a-15482d9f5781</td>\n",
       "      <td>8292aa4e-7f1b-4655-bf0e-f1f2c9e3ffaf</td>\n",
       "      <td>Home &amp; Garden</td>\n",
       "      <td>6</td>\n",
       "    </tr>\n",
       "  </tbody>\n",
       "</table>\n",
       "</div>"
      ],
      "text/plain": [
       "                                     id                            product_id  \\\n",
       "0  912bb259-3ad9-457b-9db1-ce1da9016057  5f5f57d7-778f-4336-bb10-b43863418c8c   \n",
       "1  b166d305-b852-4bdd-83f4-465b20da94fa  5f5f57d7-778f-4336-bb10-b43863418c8c   \n",
       "2  68f5a29d-0075-4d60-81c1-ab684a82e50c  c2c8949f-3cde-4651-a234-4a4a1b2a9ad4   \n",
       "3  f6a309d7-d247-446a-9b5e-aceefdd4334d  c2c8949f-3cde-4651-a234-4a4a1b2a9ad4   \n",
       "4  2c2b3a6f-15b3-4289-937a-15482d9f5781  8292aa4e-7f1b-4655-bf0e-f1f2c9e3ffaf   \n",
       "\n",
       "   root_category  label  \n",
       "0  Home & Garden      6  \n",
       "1  Home & Garden      6  \n",
       "2  Home & Garden      6  \n",
       "3  Home & Garden      6  \n",
       "4  Home & Garden      6  "
      ]
     },
     "execution_count": 8,
     "metadata": {},
     "output_type": "execute_result"
    }
   ],
   "source": [
    "training_data = pd.merge(images,products)[['id','label']]\n",
    "images = pd.merge(images,products)[['id','product_id','root_category','label']]\n",
    "\n",
    "\n",
    "images.head()"
   ]
  },
  {
   "cell_type": "code",
   "execution_count": 9,
   "metadata": {},
   "outputs": [],
   "source": [
    "import json\n",
    "categories,labels = [products['root_category'].unique(),products['label'].unique()]\n",
    "\n",
    "encoder = dict()\n",
    "for i in range(len(categories)):\n",
    "    encoder[categories[i]] = int(labels[i])\n",
    "\n",
    "#also add the reversed values so we can go cat>label or label>cat\n",
    "encoder.update({v: k for k, v in encoder.items()})\n",
    "\n",
    "with open(\"image_decoder.json\", \"w\") as outfile:\n",
    "    json.dump(encoder,outfile)\n",
    "\n",
    "\n"
   ]
  },
  {
   "attachments": {},
   "cell_type": "markdown",
   "metadata": {},
   "source": [
    "Let's save the training data to csv for later."
   ]
  },
  {
   "cell_type": "code",
   "execution_count": 9,
   "metadata": {},
   "outputs": [],
   "source": [
    "training_data.to_csv(\"training_data.csv\",index=False)"
   ]
  },
  {
   "cell_type": "code",
   "execution_count": 10,
   "metadata": {},
   "outputs": [
    {
     "name": "stdout",
     "output_type": "stream",
     "text": [
      "13\n"
     ]
    }
   ],
   "source": [
    "print(len(categories))"
   ]
  },
  {
   "cell_type": "code",
   "execution_count": 11,
   "metadata": {},
   "outputs": [
    {
     "name": "stderr",
     "output_type": "stream",
     "text": [
      "Resizing: 100%|██████████| 100% 12668/12668 [00:00]\n"
     ]
    }
   ],
   "source": [
    "import clean_images\n",
    "clean_images.clean_image_data(\"images/\", 224)"
   ]
  },
  {
   "attachments": {},
   "cell_type": "markdown",
   "metadata": {},
   "source": [
    "Now that that's done, let's have a second look to make sure that our json decoder/encoder has the right categories in it:"
   ]
  },
  {
   "cell_type": "code",
   "execution_count": 11,
   "metadata": {},
   "outputs": [
    {
     "data": {
      "text/html": [
       "<div>\n",
       "<style scoped>\n",
       "    .dataframe tbody tr th:only-of-type {\n",
       "        vertical-align: middle;\n",
       "    }\n",
       "\n",
       "    .dataframe tbody tr th {\n",
       "        vertical-align: top;\n",
       "    }\n",
       "\n",
       "    .dataframe thead th {\n",
       "        text-align: right;\n",
       "    }\n",
       "</style>\n",
       "<table border=\"1\" class=\"dataframe\">\n",
       "  <thead>\n",
       "    <tr style=\"text-align: right;\">\n",
       "      <th></th>\n",
       "      <th>id</th>\n",
       "      <th>product_id</th>\n",
       "      <th>root_category</th>\n",
       "      <th>label</th>\n",
       "    </tr>\n",
       "  </thead>\n",
       "  <tbody>\n",
       "    <tr>\n",
       "      <th>3232</th>\n",
       "      <td>6e55f82f-408a-431a-8137-73da2d438c88</td>\n",
       "      <td>de697010-0fe2-4ee5-a4c0-413276d7066f</td>\n",
       "      <td>Other Goods</td>\n",
       "      <td>9</td>\n",
       "    </tr>\n",
       "    <tr>\n",
       "      <th>11789</th>\n",
       "      <td>8e160f02-0cdc-44b5-a365-0f3e5df1a300</td>\n",
       "      <td>121be5cf-6334-4fe7-8e09-8e7a0268a180</td>\n",
       "      <td>Video Games &amp; Consoles</td>\n",
       "      <td>12</td>\n",
       "    </tr>\n",
       "    <tr>\n",
       "      <th>1593</th>\n",
       "      <td>1af1593e-ed3c-4e0e-ab29-56efe6d8ceda</td>\n",
       "      <td>4b3accfc-945c-46b3-b615-da9f76bfc7f0</td>\n",
       "      <td>Baby &amp; Kids Stuff</td>\n",
       "      <td>1</td>\n",
       "    </tr>\n",
       "    <tr>\n",
       "      <th>7317</th>\n",
       "      <td>b26c56f0-e21f-4d5a-8fc0-7359247c5dea</td>\n",
       "      <td>304a0dfc-10ea-4169-8418-80aff9c99400</td>\n",
       "      <td>Music, Films, Books &amp; Games</td>\n",
       "      <td>7</td>\n",
       "    </tr>\n",
       "    <tr>\n",
       "      <th>5061</th>\n",
       "      <td>776da787-6557-46a0-bb9d-04c9a164f13e</td>\n",
       "      <td>5291fbaa-f7ea-4669-bb15-c8b2a164a07f</td>\n",
       "      <td>DIY Tools &amp; Materials</td>\n",
       "      <td>4</td>\n",
       "    </tr>\n",
       "  </tbody>\n",
       "</table>\n",
       "</div>"
      ],
      "text/plain": [
       "                                         id  \\\n",
       "3232   6e55f82f-408a-431a-8137-73da2d438c88   \n",
       "11789  8e160f02-0cdc-44b5-a365-0f3e5df1a300   \n",
       "1593   1af1593e-ed3c-4e0e-ab29-56efe6d8ceda   \n",
       "7317   b26c56f0-e21f-4d5a-8fc0-7359247c5dea   \n",
       "5061   776da787-6557-46a0-bb9d-04c9a164f13e   \n",
       "\n",
       "                                 product_id                root_category  \\\n",
       "3232   de697010-0fe2-4ee5-a4c0-413276d7066f                  Other Goods   \n",
       "11789  121be5cf-6334-4fe7-8e09-8e7a0268a180       Video Games & Consoles   \n",
       "1593   4b3accfc-945c-46b3-b615-da9f76bfc7f0            Baby & Kids Stuff   \n",
       "7317   304a0dfc-10ea-4169-8418-80aff9c99400  Music, Films, Books & Games   \n",
       "5061   5291fbaa-f7ea-4669-bb15-c8b2a164a07f        DIY Tools & Materials   \n",
       "\n",
       "       label  \n",
       "3232       9  \n",
       "11789     12  \n",
       "1593       1  \n",
       "7317       7  \n",
       "5061       4  "
      ]
     },
     "execution_count": 11,
     "metadata": {},
     "output_type": "execute_result"
    }
   ],
   "source": [
    "images.sample(5)"
   ]
  },
  {
   "cell_type": "code",
   "execution_count": 13,
   "metadata": {},
   "outputs": [
    {
     "name": "stdout",
     "output_type": "stream",
     "text": [
      "Category 0: Appliances\n",
      "Category 1: Baby & Kids Stuff\n",
      "Category 2: Clothes, Footwear & Accessories\n",
      "Category 3: Computers & Software\n",
      "Category 4: DIY Tools & Materials\n",
      "Category 5: Health & Beauty\n",
      "Category 6: Home & Garden\n",
      "Category 7: Music, Films, Books & Games\n",
      "Category 8: Office Furniture & Equipment\n",
      "Category 9: Other Goods\n",
      "Category 10: Phones, Mobile Phones & Telecoms\n",
      "Category 11: Sports, Leisure & Travel\n",
      "Category 12: Video Games & Consoles\n"
     ]
    }
   ],
   "source": [
    "import my_vision\n",
    "newDS = my_vision.classification_dataset(\"training_data.csv\",\"\",\"\")\n",
    "\n",
    "for i in range(13):\n",
    "    label = newDS.human_category_label(i)\n",
    "    print(f'Category {i}: {label}')"
   ]
  }
 ],
 "metadata": {
  "kernelspec": {
   "display_name": "Facebook",
   "language": "python",
   "name": "python3"
  },
  "language_info": {
   "codemirror_mode": {
    "name": "ipython",
    "version": 3
   },
   "file_extension": ".py",
   "mimetype": "text/x-python",
   "name": "python",
   "nbconvert_exporter": "python",
   "pygments_lexer": "ipython3",
   "version": "3.10.9"
  },
  "orig_nbformat": 4
 },
 "nbformat": 4,
 "nbformat_minor": 2
}
